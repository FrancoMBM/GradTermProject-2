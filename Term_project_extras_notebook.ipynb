{
 "cells": [
  {
   "cell_type": "code",
   "execution_count": 1,
   "metadata": {},
   "outputs": [],
   "source": [
    "setwd(\"C:/Users/franc/Desktop/BU_MS_ANALYTICS/1Semester/CS555/Term_project\")"
   ]
  },
  {
   "cell_type": "code",
   "execution_count": 4,
   "metadata": {},
   "outputs": [
    {
     "name": "stderr",
     "output_type": "stream",
     "text": [
      "also installing the dependencies 'memoise', 'scatterplot3d', 'pixmap', 'plotrix', 'mvtnorm', 'deSolve', 'tkrplot', 'combinat', 'multcompView', 'gWidgets2', 'gWidgets2tcltk'\n",
      "\n"
     ]
    },
    {
     "name": "stdout",
     "output_type": "stream",
     "text": [
      "package 'memoise' successfully unpacked and MD5 sums checked\n",
      "package 'scatterplot3d' successfully unpacked and MD5 sums checked\n",
      "package 'pixmap' successfully unpacked and MD5 sums checked\n",
      "package 'plotrix' successfully unpacked and MD5 sums checked\n",
      "package 'mvtnorm' successfully unpacked and MD5 sums checked\n",
      "package 'deSolve' successfully unpacked and MD5 sums checked\n",
      "package 'tkrplot' successfully unpacked and MD5 sums checked\n",
      "package 'combinat' successfully unpacked and MD5 sums checked\n",
      "package 'multcompView' successfully unpacked and MD5 sums checked\n",
      "package 'gWidgets2' successfully unpacked and MD5 sums checked\n",
      "package 'gWidgets2tcltk' successfully unpacked and MD5 sums checked\n",
      "package 'asbio' successfully unpacked and MD5 sums checked\n",
      "\n",
      "The downloaded binary packages are in\n",
      "\tC:\\Users\\franc\\AppData\\Local\\Temp\\Rtmp80FZ3h\\downloaded_packages\n"
     ]
    }
   ],
   "source": [
    "install.packages(\"asbio\")"
   ]
  },
  {
   "cell_type": "code",
   "execution_count": 6,
   "metadata": {},
   "outputs": [
    {
     "name": "stderr",
     "output_type": "stream",
     "text": [
      "also installing the dependencies 'ellipsis', 'rlang', 'bit', 'vctrs', 'bit64', 'blob', 'DBI'\n",
      "\n"
     ]
    },
    {
     "name": "stdout",
     "output_type": "stream",
     "text": [
      "\n",
      "  There is a binary version available but the source version is later:\n",
      "      binary source needs_compilation\n",
      "rlang  0.4.8  0.4.9              TRUE\n",
      "\n",
      "  Binaries will be installed\n",
      "package 'ellipsis' successfully unpacked and MD5 sums checked\n",
      "package 'rlang' successfully unpacked and MD5 sums checked\n"
     ]
    },
    {
     "name": "stderr",
     "output_type": "stream",
     "text": [
      "Warning message:\n",
      "\"cannot remove prior installation of package 'rlang'\"Warning message in file.copy(savedcopy, lib, recursive = TRUE):\n",
      "\"problem copying C:\\Users\\franc\\Anaconda3\\envs\\MSDataAnalytics\\Lib\\R\\library\\00LOCK\\rlang\\libs\\x64\\rlang.dll to C:\\Users\\franc\\Anaconda3\\envs\\MSDataAnalytics\\Lib\\R\\library\\rlang\\libs\\x64\\rlang.dll: Permission denied\"Warning message:\n",
      "\"restored 'rlang'\""
     ]
    },
    {
     "name": "stdout",
     "output_type": "stream",
     "text": [
      "package 'bit' successfully unpacked and MD5 sums checked\n",
      "package 'vctrs' successfully unpacked and MD5 sums checked\n",
      "package 'bit64' successfully unpacked and MD5 sums checked\n",
      "package 'blob' successfully unpacked and MD5 sums checked\n",
      "package 'DBI' successfully unpacked and MD5 sums checked\n",
      "package 'RSQLite' successfully unpacked and MD5 sums checked\n",
      "\n",
      "The downloaded binary packages are in\n",
      "\tC:\\Users\\franc\\AppData\\Local\\Temp\\Rtmp80FZ3h\\downloaded_packages\n"
     ]
    }
   ],
   "source": [
    "install.packages(\"RSQLite\")"
   ]
  },
  {
   "cell_type": "code",
   "execution_count": 9,
   "metadata": {},
   "outputs": [
    {
     "name": "stderr",
     "output_type": "stream",
     "text": [
      "\n",
      "Attaching package: 'zoo'\n",
      "\n",
      "The following objects are masked from 'package:base':\n",
      "\n",
      "    as.Date, as.Date.numeric\n",
      "\n",
      "Registered S3 method overwritten by 'xts':\n",
      "  method     from\n",
      "  as.zoo.xts zoo \n",
      "\n",
      "Attaching package: 'xts'\n",
      "\n",
      "The following objects are masked from 'package:data.table':\n",
      "\n",
      "    first, last\n",
      "\n",
      "The following objects are masked from 'package:dplyr':\n",
      "\n",
      "    first, last\n",
      "\n"
     ]
    }
   ],
   "source": [
    "library(ggplot2)\n",
    "library(dbplyr)\n",
    "library(tidyr)\n",
    "library(tidyverse)\n",
    "library(asbio)\n",
    "library(data.table)\n",
    "library(zoo)\n",
    "library(xts)"
   ]
  },
  {
   "cell_type": "code",
   "execution_count": 10,
   "metadata": {},
   "outputs": [],
   "source": [
    "df <- read.csv(file = 'final.csv', sep = ',', header = TRUE)"
   ]
  },
  {
   "cell_type": "code",
   "execution_count": 11,
   "metadata": {},
   "outputs": [],
   "source": [
    "df <- df[,c(2,4,6,7,8,9,10,11)]"
   ]
  },
  {
   "cell_type": "code",
   "execution_count": 12,
   "metadata": {},
   "outputs": [],
   "source": [
    "df$period_begin <- as.Date(df$period_begin)\n",
    "\n",
    "df <- subset(df,format(df$period_begin,'%Y')=='2017'| \n",
    "               format(df$period_begin,'%Y')=='2018' | \n",
    "               format(df$period_begin,'%Y')=='2019' |\n",
    "               format(df$period_begin,'%Y')=='2020')\n",
    "\n",
    "# ordering by date:\n",
    "\n",
    "df <- df[order(df$period_begin),]\n",
    "\n",
    "\n",
    "# Creating a new columns date factor:\n",
    "\n",
    "#df[df$period_begin >= '2020-01-01',]\n",
    "#df[df$period_begin >= '2019-01-01' & df$period_begin < '2020-01-01' ,]\n",
    "\n",
    "\n",
    "year <- function(date.column){\n",
    "  \n",
    "  year.factor <- c()\n",
    "  \n",
    "  for (i in 1:length(date.column)){\n",
    "    \n",
    "    if(date.column[i]  >= '2020-01-01'){\n",
    "      \n",
    "      year.factor[i] = '2020'\n",
    "      \n",
    "    }else if (date.column[i]  >= '2019-01-01') {\n",
    "      year.factor[i] = '2019'\n",
    "    }else if (date.column[i]  >= '2018-01-01') {\n",
    "      year.factor[i] = '2018'\n",
    "    }else{\n",
    "      year.factor[i] = '2017'\n",
    "    }\n",
    "    \n",
    "  }\n",
    "\n",
    "  return(year.factor)\n",
    "}\n",
    "\n",
    "year.factor <- year(df$period_begin)\n",
    "\n",
    "df <- cbind(df, Year = year.factor) \n"
   ]
  },
  {
   "cell_type": "code",
   "execution_count": 13,
   "metadata": {},
   "outputs": [],
   "source": [
    "df$duration <- as.factor(df$duration)\n",
    "df$Year <- as.factor(df$Year)\n",
    "df$Name <- as.factor(df$Name)\n",
    "df$Pop.Density <- as.factor(df$Pop.Density)"
   ]
  },
  {
   "cell_type": "code",
   "execution_count": 14,
   "metadata": {},
   "outputs": [
    {
     "data": {
      "text/plain": [
       "  period_begin            duration   average_homes_sold median_sale_price\n",
       " Min.   :2017-01-02   1 weeks :657   Min.   : 50.0      Min.   :230000   \n",
       " 1st Qu.:2017-12-11   12 weeks:729   1st Qu.:114.0      1st Qu.:363000   \n",
       " Median :2018-11-12   4 weeks :705   Median :147.0      Median :465000   \n",
       " Mean   :2018-11-14                  Mean   :174.3      Mean   :466953   \n",
       " 3rd Qu.:2019-10-21                  3rd Qu.:201.0      3rd Qu.:573965   \n",
       " Max.   :2020-10-19                  Max.   :872.0      Max.   :775000   \n",
       " median_days_to_close average_new_listings Pop.Density         Name    \n",
       " Min.   :31.00        Min.   : 14.0        458.1 :290   Bristol  :407  \n",
       " 1st Qu.:39.00        1st Qu.:142.0        797.2 :407   Essex    :302  \n",
       " Median :44.60        Median :189.0        914.2 :302   Middlesex:311  \n",
       " Mean   :43.31        Mean   :214.1        1536.8:289   Norfolk  :289  \n",
       " 3rd Qu.:47.00        3rd Qu.:250.0        1817.9:311   Plymouth :290  \n",
       " Max.   :59.00        Max.   :810.0        6221.3:492   Suffolk  :492  \n",
       "   Year    \n",
       " 2017:548  \n",
       " 2018:580  \n",
       " 2019:553  \n",
       " 2020:410  \n",
       "           \n",
       "           "
      ]
     },
     "metadata": {},
     "output_type": "display_data"
    },
    {
     "data": {
      "text/html": [
       "FALSE"
      ],
      "text/latex": [
       "FALSE"
      ],
      "text/markdown": [
       "FALSE"
      ],
      "text/plain": [
       "[1] FALSE"
      ]
     },
     "metadata": {},
     "output_type": "display_data"
    }
   ],
   "source": [
    "attach(df)\n",
    "\n",
    "summary(df)\n",
    "\n",
    "# Check for NANs:\n",
    "\n",
    "any(is.na(df)) "
   ]
  },
  {
   "cell_type": "code",
   "execution_count": 16,
   "metadata": {},
   "outputs": [
    {
     "data": {
      "text/html": [
       "<table>\n",
       "<thead><tr><th></th><th scope=col>period_begin</th><th scope=col>duration</th><th scope=col>average_homes_sold</th><th scope=col>median_sale_price</th><th scope=col>median_days_to_close</th><th scope=col>average_new_listings</th><th scope=col>Pop.Density</th><th scope=col>Name</th><th scope=col>Year</th></tr></thead>\n",
       "<tbody>\n",
       "\t<tr><th scope=row>270</th><td>2017-01-02</td><td>12 weeks  </td><td>111       </td><td>421479.1  </td><td>51.2      </td><td>178       </td><td>1536.8    </td><td>Norfolk   </td><td>2017      </td></tr>\n",
       "\t<tr><th scope=row>483</th><td>2017-01-02</td><td>4 weeks   </td><td> 92       </td><td>553500.0  </td><td>54.0      </td><td>112       </td><td>6221.3    </td><td>Suffolk   </td><td>2017      </td></tr>\n",
       "\t<tr><th scope=row>726</th><td>2017-01-02</td><td>12 weeks  </td><td> 88       </td><td>546312.5  </td><td>50.7      </td><td>146       </td><td>6221.3    </td><td>Suffolk   </td><td>2017      </td></tr>\n",
       "\t<tr><th scope=row>849</th><td>2017-01-02</td><td>1 weeks   </td><td>201       </td><td>505000.0  </td><td>53.0      </td><td>265       </td><td>1817.9    </td><td>Middlesex </td><td>2017      </td></tr>\n",
       "\t<tr><th scope=row>967</th><td>2017-01-02</td><td>4 weeks   </td><td>224       </td><td>474750.0  </td><td>53.7      </td><td>260       </td><td>1817.9    </td><td>Middlesex </td><td>2017      </td></tr>\n",
       "\t<tr><th scope=row>1182</th><td>2017-01-02</td><td>1 weeks   </td><td>133       </td><td>363000.0  </td><td>53.0      </td><td>135       </td><td>914.2     </td><td>Essex     </td><td>2017      </td></tr>\n",
       "\t<tr><th scope=row>1295</th><td>2017-01-02</td><td>12 weeks  </td><td>129       </td><td>360729.1  </td><td>49.8      </td><td>180       </td><td>914.2     </td><td>Essex     </td><td>2017      </td></tr>\n",
       "\t<tr><th scope=row>1759</th><td>2017-01-02</td><td>12 weeks  </td><td> 79       </td><td>253463.0  </td><td>50.0      </td><td>123       </td><td>797.2     </td><td>Bristol   </td><td>2017      </td></tr>\n",
       "\t<tr><th scope=row>437</th><td>2017-01-09</td><td>1 weeks   </td><td>111       </td><td>595000.0  </td><td>58.0      </td><td>111       </td><td>6221.3    </td><td>Suffolk   </td><td>2017      </td></tr>\n",
       "\t<tr><th scope=row>584</th><td>2017-01-09</td><td>4 weeks   </td><td> 98       </td><td>534750.0  </td><td>53.5      </td><td>115       </td><td>6221.3    </td><td>Suffolk   </td><td>2017      </td></tr>\n",
       "</tbody>\n",
       "</table>\n"
      ],
      "text/latex": [
       "\\begin{tabular}{r|lllllllll}\n",
       "  & period\\_begin & duration & average\\_homes\\_sold & median\\_sale\\_price & median\\_days\\_to\\_close & average\\_new\\_listings & Pop.Density & Name & Year\\\\\n",
       "\\hline\n",
       "\t270 & 2017-01-02 & 12 weeks   & 111        & 421479.1   & 51.2       & 178        & 1536.8     & Norfolk    & 2017      \\\\\n",
       "\t483 & 2017-01-02 & 4 weeks    &  92        & 553500.0   & 54.0       & 112        & 6221.3     & Suffolk    & 2017      \\\\\n",
       "\t726 & 2017-01-02 & 12 weeks   &  88        & 546312.5   & 50.7       & 146        & 6221.3     & Suffolk    & 2017      \\\\\n",
       "\t849 & 2017-01-02 & 1 weeks    & 201        & 505000.0   & 53.0       & 265        & 1817.9     & Middlesex  & 2017      \\\\\n",
       "\t967 & 2017-01-02 & 4 weeks    & 224        & 474750.0   & 53.7       & 260        & 1817.9     & Middlesex  & 2017      \\\\\n",
       "\t1182 & 2017-01-02 & 1 weeks    & 133        & 363000.0   & 53.0       & 135        & 914.2      & Essex      & 2017      \\\\\n",
       "\t1295 & 2017-01-02 & 12 weeks   & 129        & 360729.1   & 49.8       & 180        & 914.2      & Essex      & 2017      \\\\\n",
       "\t1759 & 2017-01-02 & 12 weeks   &  79        & 253463.0   & 50.0       & 123        & 797.2      & Bristol    & 2017      \\\\\n",
       "\t437 & 2017-01-09 & 1 weeks    & 111        & 595000.0   & 58.0       & 111        & 6221.3     & Suffolk    & 2017      \\\\\n",
       "\t584 & 2017-01-09 & 4 weeks    &  98        & 534750.0   & 53.5       & 115        & 6221.3     & Suffolk    & 2017      \\\\\n",
       "\\end{tabular}\n"
      ],
      "text/markdown": [
       "\n",
       "| <!--/--> | period_begin | duration | average_homes_sold | median_sale_price | median_days_to_close | average_new_listings | Pop.Density | Name | Year |\n",
       "|---|---|---|---|---|---|---|---|---|---|\n",
       "| 270 | 2017-01-02 | 12 weeks   | 111        | 421479.1   | 51.2       | 178        | 1536.8     | Norfolk    | 2017       |\n",
       "| 483 | 2017-01-02 | 4 weeks    |  92        | 553500.0   | 54.0       | 112        | 6221.3     | Suffolk    | 2017       |\n",
       "| 726 | 2017-01-02 | 12 weeks   |  88        | 546312.5   | 50.7       | 146        | 6221.3     | Suffolk    | 2017       |\n",
       "| 849 | 2017-01-02 | 1 weeks    | 201        | 505000.0   | 53.0       | 265        | 1817.9     | Middlesex  | 2017       |\n",
       "| 967 | 2017-01-02 | 4 weeks    | 224        | 474750.0   | 53.7       | 260        | 1817.9     | Middlesex  | 2017       |\n",
       "| 1182 | 2017-01-02 | 1 weeks    | 133        | 363000.0   | 53.0       | 135        | 914.2      | Essex      | 2017       |\n",
       "| 1295 | 2017-01-02 | 12 weeks   | 129        | 360729.1   | 49.8       | 180        | 914.2      | Essex      | 2017       |\n",
       "| 1759 | 2017-01-02 | 12 weeks   |  79        | 253463.0   | 50.0       | 123        | 797.2      | Bristol    | 2017       |\n",
       "| 437 | 2017-01-09 | 1 weeks    | 111        | 595000.0   | 58.0       | 111        | 6221.3     | Suffolk    | 2017       |\n",
       "| 584 | 2017-01-09 | 4 weeks    |  98        | 534750.0   | 53.5       | 115        | 6221.3     | Suffolk    | 2017       |\n",
       "\n"
      ],
      "text/plain": [
       "     period_begin duration average_homes_sold median_sale_price\n",
       "270  2017-01-02   12 weeks 111                421479.1         \n",
       "483  2017-01-02   4 weeks   92                553500.0         \n",
       "726  2017-01-02   12 weeks  88                546312.5         \n",
       "849  2017-01-02   1 weeks  201                505000.0         \n",
       "967  2017-01-02   4 weeks  224                474750.0         \n",
       "1182 2017-01-02   1 weeks  133                363000.0         \n",
       "1295 2017-01-02   12 weeks 129                360729.1         \n",
       "1759 2017-01-02   12 weeks  79                253463.0         \n",
       "437  2017-01-09   1 weeks  111                595000.0         \n",
       "584  2017-01-09   4 weeks   98                534750.0         \n",
       "     median_days_to_close average_new_listings Pop.Density Name      Year\n",
       "270  51.2                 178                  1536.8      Norfolk   2017\n",
       "483  54.0                 112                  6221.3      Suffolk   2017\n",
       "726  50.7                 146                  6221.3      Suffolk   2017\n",
       "849  53.0                 265                  1817.9      Middlesex 2017\n",
       "967  53.7                 260                  1817.9      Middlesex 2017\n",
       "1182 53.0                 135                  914.2       Essex     2017\n",
       "1295 49.8                 180                  914.2       Essex     2017\n",
       "1759 50.0                 123                  797.2       Bristol   2017\n",
       "437  58.0                 111                  6221.3      Suffolk   2017\n",
       "584  53.5                 115                  6221.3      Suffolk   2017"
      ]
     },
     "metadata": {},
     "output_type": "display_data"
    }
   ],
   "source": [
    "head(df, 10)"
   ]
  },
  {
   "cell_type": "code",
   "execution_count": 17,
   "metadata": {},
   "outputs": [
    {
     "data": {
      "text/plain": [
       "\n",
       "\tShapiro-Wilk normality test\n",
       "\n",
       "data:  average_homes_sold\n",
       "W = 0.806, p-value < 2.2e-16\n"
      ]
     },
     "metadata": {},
     "output_type": "display_data"
    },
    {
     "data": {
      "text/plain": [
       "\n",
       "\tShapiro-Wilk normality test\n",
       "\n",
       "data:  median_sale_price\n",
       "W = 0.96398, p-value < 2.2e-16\n"
      ]
     },
     "metadata": {},
     "output_type": "display_data"
    },
    {
     "data": {
      "text/plain": [
       "\n",
       "\tShapiro-Wilk normality test\n",
       "\n",
       "data:  median_days_to_close\n",
       "W = 0.95702, p-value < 2.2e-16\n"
      ]
     },
     "metadata": {},
     "output_type": "display_data"
    },
    {
     "data": {
      "text/plain": [
       "\n",
       "\tShapiro-Wilk normality test\n",
       "\n",
       "data:  average_new_listings\n",
       "W = 0.86348, p-value < 2.2e-16\n"
      ]
     },
     "metadata": {},
     "output_type": "display_data"
    },
    {
     "data": {
      "image/png": "[encoded data removed]",
      "text/plain": [
       "Plot with title \"General distribution of Average New Listings\""
      ]
     },
     "metadata": {},
     "output_type": "display_data"
    },
    {
     "data": {
      "image/png": "[encoded data removed]",
      "text/plain": [
       "Plot with title \"General Boxplot of Average New Listings\""
      ]
     },
     "metadata": {},
     "output_type": "display_data"
    }
   ],
   "source": [
    "h <- function(col, name){\n",
    "  hist(col, xlab = sprintf(\"%s\", name), \n",
    "                    main = sprintf('General distribution of %s', name),\n",
    "       cex.main = 0.8, col = 'wheat3')\n",
    "}\n",
    "\n",
    "\n",
    "par(mfrow = c(2,2))\n",
    "\n",
    "h(average_homes_sold, 'Average Homes Sold')\n",
    "h(median_sale_price, 'Median Sale Price')\n",
    "h(median_days_to_close, 'Median Days to Close')\n",
    "h(average_new_listings, 'Average New Listings')\n",
    "\n",
    "\n",
    "\n",
    "par(mfrow = c(1,1))\n",
    "\n",
    "\n",
    "\n",
    "# Shapiro-Wilk Test for the distribution\n",
    "\n",
    "shapiro.test(average_homes_sold)\n",
    "shapiro.test(median_sale_price)\n",
    "shapiro.test(median_days_to_close)\n",
    "shapiro.test(average_new_listings)\n",
    "\n",
    "# Checking for general outliers \n",
    "\n",
    "\n",
    "b <- function(col, name, y = '', main = 'General Boxplot of %s', graph = boxplot){\n",
    "  graph(col, xlab = sprintf(\"%s\", name), ylab = y,\n",
    "       main = sprintf(main, name),\n",
    "       cex.main = 0.8, col = 'wheat3')\n",
    "}\n",
    "\n",
    "par(mfrow = c(2,2))\n",
    "\n",
    "b(average_homes_sold, 'Average Homes Sold')\n",
    "b(median_sale_price, 'Median Sale Price')\n",
    "b(median_days_to_close, 'Median Days to Close')\n",
    "b(average_new_listings, 'Average New Listings')\n",
    "\n",
    "par(mfrow = c(1,1))\n",
    "\n",
    "\n",
    "# Dealing with general outliers: \n",
    "\n",
    "df$average_homes_sold[df$average_homes_sold < quantile(df$average_homes_sold, probs = 0.25) - 1.5*IQR(df$average_homes_sold) |\n",
    "                          \n",
    "                          df$average_homes_sold > quantile(df$average_homes_sold, probs = 0.75) + 1.5*IQR(df$average_homes_sold)] <- NA\n",
    "\n",
    "df$median_sale_price[df$median_sale_price < quantile(df$median_sale_price, probs = 0.25) - 1.5*IQR(df$median_sale_price) |\n",
    "                          \n",
    "                          df$median_sale_price > quantile(df$median_sale_price, probs = 0.75) + 1.5*IQR(df$median_sale_price)] <- NA\n",
    "\n",
    "df$median_days_to_close[df$median_days_to_close < quantile(df$median_days_to_close, probs = 0.25) - 1.5*IQR(df$median_days_to_close) |\n",
    "                          \n",
    "                          df$median_days_to_close > quantile(df$median_days_to_close, probs = 0.75) + 1.5*IQR(df$median_days_to_close)] <- NA\n",
    "\n",
    "\n",
    "df$average_new_listings[df$average_new_listings < quantile(df$average_new_listings, probs = 0.25) - 1.5*IQR(df$average_new_listings) |\n",
    "                          \n",
    "                          df$average_new_listings > quantile(df$average_new_listings, probs = 0.75) + 1.5*IQR(df$average_new_listings)] <- NA\n",
    "\n",
    "# consulted: (Stack Overflow and d8aninja )\n",
    "\n",
    "\n",
    "\n",
    "df <- na.omit(df) \n",
    "\n",
    "detach(df)\n",
    "\n",
    "attach(df)"
   ]
  },
  {
   "cell_type": "code",
   "execution_count": 18,
   "metadata": {},
   "outputs": [
    {
     "data": {
      "image/png": "[encoded data removed]",
      "text/plain": [
       "Plot with title \"House sale price for Plymouth\""
      ]
     },
     "metadata": {},
     "output_type": "display_data"
    }
   ],
   "source": [
    "############################# 3. Analytics :####################################\n",
    "\n",
    "###############Question a:###################\n",
    "\n",
    "# Are there any significant differences in Median House Sale Price\n",
    "# between 'Average Homes Sold' and the years 2017, 2018 , 2019, 2020?.\n",
    "\n",
    "# The variable population density will not be considered here since it derives\n",
    "# from the variable county. This is done in order to avoid using two measurement\n",
    "# for the same group unit (dependency)\n",
    "\n",
    "# i : First, testing for normality and homogeneity of variances for the groups\n",
    "# of the two factor variables(Year and County) after dealing with potential outliers:\n",
    "\n",
    "\n",
    "\n",
    "##### Outliers: ######\n",
    "\n",
    "\n",
    "# Name (county):\n",
    "\n",
    "Norfolk <- median_sale_price[Name == 'Norfolk']\n",
    "Suffolk <-median_sale_price[Name == 'Suffolk']\n",
    "Essex <- median_sale_price[Name == 'Essex']\n",
    "Middlesex <- median_sale_price[Name == 'Middlesex']\n",
    "Bristol <- median_sale_price[Name == 'Bristol']\n",
    "Plymouth <- median_sale_price[Name == 'Plymouth']\n",
    "\n",
    "par(mfrow = c(2,3))\n",
    "\n",
    "b(Norfolk, 'Norfolk', y = 'Median Sale Price', main = 'House sale price for %s')\n",
    "b(Suffolk, 'Suffolk', y = 'Median Sale Price', main = 'House sale price for %s')\n",
    "b(Essex, 'Essex', y = 'Median Sale Price', main = 'House sale price for %s')\n",
    "b(Middlesex, 'Middlesex', y = 'Median Sale Price', main = 'House sale price for %s')\n",
    "b(Bristol, 'Bristol', y = 'Median Sale Price', main = 'House sale price for %s')\n",
    "b(Plymouth, 'Plymouth', y = 'Median Sale Price', main = 'House sale price for %s')"
   ]
  },
  {
   "cell_type": "code",
   "execution_count": 19,
   "metadata": {},
   "outputs": [],
   "source": [
    "par(mfrow = c(1,1))"
   ]
  },
  {
   "cell_type": "code",
   "execution_count": 20,
   "metadata": {},
   "outputs": [
    {
     "data": {
      "image/png": "[encoded data removed]",
      "text/plain": [
       "plot without title"
      ]
     },
     "metadata": {},
     "output_type": "display_data"
    },
    {
     "data": {
      "image/png": "[encoded data removed]",
      "text/plain": [
       "plot without title"
      ]
     },
     "metadata": {},
     "output_type": "display_data"
    },
    {
     "data": {
      "image/png": "[encoded data removed]",
      "text/plain": [
       "plot without title"
      ]
     },
     "metadata": {},
     "output_type": "display_data"
    },
    {
     "data": {
      "image/png": "[encoded data removed]",
      "text/plain": [
       "plot without title"
      ]
     },
     "metadata": {},
     "output_type": "display_data"
    },
    {
     "data": {
      "image/png": "[encoded data removed]",
      "text/plain": [
       "plot without title"
      ]
     },
     "metadata": {},
     "output_type": "display_data"
    },
    {
     "data": {
      "image/png": "[encoded data removed]",
      "text/plain": [
       "plot without title"
      ]
     },
     "metadata": {},
     "output_type": "display_data"
    }
   ],
   "source": [
    "county.outliers <- c(boxplot(Norfolk)$out,boxplot(Suffolk)$out, boxplot(Essex)$out,\n",
    "                     boxplot(Middlesex)$out, boxplot(Bristol)$out,boxplot(Plymouth)$out )\n",
    "\n",
    "for (i in county.outliers){\n",
    "  df$median_sale_price[df$median_sale_price == i] <- NA\n",
    "  }\n",
    "    \n",
    "\n",
    "\n",
    "\n",
    "df <- na.omit(df)  \n",
    "\n",
    "detach(df)\n",
    "attach(df)"
   ]
  },
  {
   "cell_type": "code",
   "execution_count": 21,
   "metadata": {},
   "outputs": [
    {
     "data": {
      "image/png": "[encoded data removed]",
      "text/plain": [
       "Plot with title \"House sale price for 2020\""
      ]
     },
     "metadata": {},
     "output_type": "display_data"
    }
   ],
   "source": [
    "df <- na.omit(df)  \n",
    "\n",
    "detach(df)\n",
    "attach(df)\n",
    "\n",
    "\n",
    "# Year: \n",
    "\n",
    "year2017 <- median_sale_price[period_begin < '2018-01-01']\n",
    "\n",
    "year2018 <- median_sale_price[period_begin < '2019-01-01']\n",
    "\n",
    "year2019 <- median_sale_price[period_begin < '2020-01-01']\n",
    "  \n",
    "year2020 <- median_sale_price[period_begin >= '2020-01-01']\n",
    "\n",
    "\n",
    "\n",
    "par(mfrow = c(2,2))\n",
    "\n",
    "b(year2019 , '2017', y = 'Median Sale Price', main = 'House sale price for %s')\n",
    "b(year2019 , '2018', y = 'Median Sale Price', main = 'House sale price for %s')\n",
    "b(year2019 , '2019', y = 'Median Sale Price', main = 'House sale price for %s')\n",
    "b(year2020, '2020', y = 'Median Sale Price', main = 'House sale price for %s')\n",
    "\n",
    "par(mfrow = c(1,1))\n",
    "\n",
    "\n"
   ]
  },
  {
   "cell_type": "code",
   "execution_count": 22,
   "metadata": {},
   "outputs": [
    {
     "data": {
      "text/plain": [
       "   Min. 1st Qu.  Median    Mean 3rd Qu.    Max. \n",
       " 230000  336809  400150  423976  553875  681500 "
      ]
     },
     "metadata": {},
     "output_type": "display_data"
    },
    {
     "data": {
      "text/plain": [
       "   Min. 1st Qu.  Median    Mean 3rd Qu.    Max. \n",
       " 254950  353209  419000  447649  575000  725000 "
      ]
     },
     "metadata": {},
     "output_type": "display_data"
    },
    {
     "data": {
      "text/plain": [
       "   Min. 1st Qu.  Median    Mean 3rd Qu.    Max. \n",
       " 267500  362563  444827  467711  594500  711500 "
      ]
     },
     "metadata": {},
     "output_type": "display_data"
    },
    {
     "data": {
      "text/plain": [
       "   Min. 1st Qu.  Median    Mean 3rd Qu.    Max. \n",
       " 278500  399784  487437  497780  601056  722500 "
      ]
     },
     "metadata": {},
     "output_type": "display_data"
    }
   ],
   "source": [
    "### Summary for years 2017 to 2020 ####\n",
    "\n",
    "\n",
    "df2017 <- subset(df, Year == '2017')\n",
    "df2018 <- subset(df, Year == '2018')\n",
    "df2019 <- subset(df, Year == '2019')\n",
    "df2020  <- subset(df, Year == '2020')\n",
    "\n",
    "\n",
    "\n",
    "# Overall:\n",
    "\n",
    "summary(df2017$median_sale_price)\n",
    "summary(df2018$median_sale_price)\n",
    "summary(df2019$median_sale_price)\n",
    "summary(df2020$median_sale_price)"
   ]
  },
  {
   "cell_type": "code",
   "execution_count": 23,
   "metadata": {},
   "outputs": [
    {
     "data": {
      "text/plain": [
       "   Min. 1st Qu.  Median    Mean 3rd Qu.    Max.    NA's \n",
       " 399125  449462  455934  456781  470815  519000     214 "
      ]
     },
     "metadata": {},
     "output_type": "display_data"
    },
    {
     "data": {
      "text/plain": [
       "   Min. 1st Qu.  Median    Mean 3rd Qu.    Max.    NA's \n",
       " 510188  571000  580896  580082  595000  681500     351 "
      ]
     },
     "metadata": {},
     "output_type": "display_data"
    },
    {
     "data": {
      "text/plain": [
       "   Min. 1st Qu.  Median    Mean 3rd Qu.    Max.    NA's \n",
       " 339750  368222  386013  382455  393954  419000     220 "
      ]
     },
     "metadata": {},
     "output_type": "display_data"
    },
    {
     "data": {
      "text/plain": [
       "   Min. 1st Qu.  Median    Mean 3rd Qu.    Max.    NA's \n",
       " 456000  472688  504871  494008  510481  548900      61 "
      ]
     },
     "metadata": {},
     "output_type": "display_data"
    },
    {
     "data": {
      "text/plain": [
       "   Min. 1st Qu.  Median    Mean 3rd Qu.    Max.    NA's \n",
       " 230000  258194  274142  268834  278771  295000     298 "
      ]
     },
     "metadata": {},
     "output_type": "display_data"
    },
    {
     "data": {
      "text/plain": [
       "   Min. 1st Qu.  Median    Mean 3rd Qu.    Max.    NA's \n",
       " 302750  341100  349900  347058  354669  410000     212 "
      ]
     },
     "metadata": {},
     "output_type": "display_data"
    },
    {
     "data": {
      "text/plain": [
       "   Min. 1st Qu.  Median    Mean 3rd Qu.    Max.    NA's \n",
       " 269875  300000  377063  413804  498625  654663     209 "
      ]
     },
     "metadata": {},
     "output_type": "display_data"
    },
    {
     "data": {
      "text/plain": [
       "   Min. 1st Qu.  Median    Mean 3rd Qu.    Max.    NA's \n",
       " 254950  363406  466323  471520  619325  725000     343 "
      ]
     },
     "metadata": {},
     "output_type": "display_data"
    },
    {
     "data": {
      "text/plain": [
       "   Min. 1st Qu.  Median    Mean 3rd Qu.    Max.    NA's \n",
       " 272733  393406  462913  489643  617770  699000     218 "
      ]
     },
     "metadata": {},
     "output_type": "display_data"
    },
    {
     "data": {
      "text/plain": [
       "   Min. 1st Qu.  Median    Mean 3rd Qu.    Max.    NA's \n",
       " 274113  402215  462283  467195  575000  619125      60 "
      ]
     },
     "metadata": {},
     "output_type": "display_data"
    },
    {
     "data": {
      "text/plain": [
       "   Min. 1st Qu.  Median    Mean 3rd Qu.    Max.    NA's \n",
       " 262950  303000  416121  446040  575000  720000     293 "
      ]
     },
     "metadata": {},
     "output_type": "display_data"
    },
    {
     "data": {
      "text/plain": [
       "   Min. 1st Qu.  Median    Mean 3rd Qu.    Max.    NA's \n",
       " 255000  302281  378331  389342  414323  669900     209 "
      ]
     },
     "metadata": {},
     "output_type": "display_data"
    }
   ],
   "source": [
    "# Per county and year:\n",
    "\n",
    "summary(subset(df2017$median_sale_price, Name == 'Norfolk'))\n",
    "summary(subset(df2017$median_sale_price, Name == 'Suffolk'))\n",
    "summary(subset(df2017$median_sale_price, Name == 'Essex'))\n",
    "summary(subset(df2017$median_sale_price, Name == 'Middlesex'))\n",
    "summary(subset(df2017$median_sale_price, Name == 'Bristol'))\n",
    "summary(subset(df2017$median_sale_price, Name == 'Plymouth'))\n",
    "\n",
    "summary(subset(df2018$median_sale_price, Name == 'Norfolk'))\n",
    "summary(subset(df2018$median_sale_price, Name == 'Suffolk'))\n",
    "summary(subset(df2018$median_sale_price, Name == 'Essex'))\n",
    "summary(subset(df2018$median_sale_price, Name == 'Middlesex'))\n",
    "summary(subset(df2018$median_sale_price, Name == 'Bristol'))\n",
    "summary(subset(df2018$median_sale_price, Name == 'Plymouth'))"
   ]
  },
  {
   "cell_type": "code",
   "execution_count": 26,
   "metadata": {},
   "outputs": [
    {
     "data": {
      "text/html": [
       "72"
      ],
      "text/latex": [
       "72"
      ],
      "text/markdown": [
       "72"
      ],
      "text/plain": [
       "[1] 72"
      ]
     },
     "metadata": {},
     "output_type": "display_data"
    }
   ],
   "source": [
    "length(subset(df$median_sale_price , Name == 'Norfolk' & Year == 2017))"
   ]
  },
  {
   "cell_type": "code",
   "execution_count": 27,
   "metadata": {},
   "outputs": [
    {
     "data": {
      "text/plain": [
       "   Min. 1st Qu.  Median    Mean 3rd Qu.    Max.    NA's \n",
       " 301175  392348  483077  492747  621594  711500     214 "
      ]
     },
     "metadata": {},
     "output_type": "display_data"
    },
    {
     "data": {
      "text/plain": [
       "   Min. 1st Qu.  Median    Mean 3rd Qu.    Max.    NA's \n",
       " 295000  402787  483932  497045  618000  707750     351 "
      ]
     },
     "metadata": {},
     "output_type": "display_data"
    },
    {
     "data": {
      "text/plain": [
       "   Min. 1st Qu.  Median    Mean 3rd Qu.    Max.    NA's \n",
       " 278725  315627  438869  447701  544750  691750     220 "
      ]
     },
     "metadata": {},
     "output_type": "display_data"
    },
    {
     "data": {
      "text/plain": [
       "   Min. 1st Qu.  Median    Mean 3rd Qu.    Max.    NA's \n",
       " 280000  409063  502938  495928  619797  679625      61 "
      ]
     },
     "metadata": {},
     "output_type": "display_data"
    },
    {
     "data": {
      "text/plain": [
       "   Min. 1st Qu.  Median    Mean 3rd Qu.    Max.    NA's \n",
       " 267500  314319  391424  420631  491467  675000     298 "
      ]
     },
     "metadata": {},
     "output_type": "display_data"
    },
    {
     "data": {
      "text/plain": [
       "   Min. 1st Qu.  Median    Mean 3rd Qu.    Max.    NA's \n",
       " 282475  370728  455517  469447  601927  686625     212 "
      ]
     },
     "metadata": {},
     "output_type": "display_data"
    }
   ],
   "source": [
    "summary(subset(df2019$median_sale_price, Name == 'Norfolk'))\n",
    "summary(subset(df2019$median_sale_price, Name == 'Suffolk'))\n",
    "summary(subset(df2019$median_sale_price, Name == 'Essex'))\n",
    "summary(subset(df2019$median_sale_price, Name == 'Middlesex'))\n",
    "summary(subset(df2019$median_sale_price, Name == 'Bristol'))\n",
    "summary(subset(df2019$median_sale_price, Name == 'Plymouth'))"
   ]
  },
  {
   "cell_type": "code",
   "execution_count": 28,
   "metadata": {},
   "outputs": [
    {
     "data": {
      "text/plain": [
       "   Min. 1st Qu.  Median    Mean 3rd Qu.    Max.    NA's \n",
       " 331850  452500  575100  545556  654283  676438     229 "
      ]
     },
     "metadata": {},
     "output_type": "display_data"
    },
    {
     "data": {
      "text/plain": [
       "   Min. 1st Qu.  Median    Mean 3rd Qu.    Max.    NA's \n",
       " 307500  380000  464350  470600  547958  690000     381 "
      ]
     },
     "metadata": {},
     "output_type": "display_data"
    },
    {
     "data": {
      "text/plain": [
       "   Min. 1st Qu.  Median    Mean 3rd Qu.    Max.    NA's \n",
       " 293263  344427  440969  454900  550981  687292     238 "
      ]
     },
     "metadata": {},
     "output_type": "display_data"
    },
    {
     "data": {
      "text/plain": [
       "   Min. 1st Qu.  Median    Mean 3rd Qu.    Max.    NA's \n",
       " 278500  350875  435438  457892  515417  720875      73 "
      ]
     },
     "metadata": {},
     "output_type": "display_data"
    },
    {
     "data": {
      "text/plain": [
       "   Min. 1st Qu.  Median    Mean 3rd Qu.    Max.    NA's \n",
       " 315121  414963  514913  512469  616822  722500     324 "
      ]
     },
     "metadata": {},
     "output_type": "display_data"
    },
    {
     "data": {
      "text/plain": [
       "   Min. 1st Qu.  Median    Mean 3rd Qu.    Max.    NA's \n",
       " 299000  443931  559417  532023  649697  720000     231 "
      ]
     },
     "metadata": {},
     "output_type": "display_data"
    }
   ],
   "source": [
    "summary(subset(df2020$median_sale_price, Name == 'Norfolk'))\n",
    "summary(subset(df2020$median_sale_price, Name == 'Suffolk'))\n",
    "summary(subset(df2020$median_sale_price, Name == 'Essex'))\n",
    "summary(subset(df2020$median_sale_price, Name == 'Middlesex'))\n",
    "summary(subset(df2020$median_sale_price, Name == 'Bristol'))\n",
    "summary(subset(df2020$median_sale_price, Name == 'Plymouth'))"
   ]
  },
  {
   "cell_type": "code",
   "execution_count": 29,
   "metadata": {},
   "outputs": [
    {
     "data": {
      "text/plain": [
       "\n",
       "\tShapiro-Wilk normality test\n",
       "\n",
       "data:  Norfolk\n",
       "W = 0.98017, p-value = 0.0004997\n"
      ]
     },
     "metadata": {},
     "output_type": "display_data"
    },
    {
     "data": {
      "text/plain": [
       "\n",
       "\tShapiro-Wilk normality test\n",
       "\n",
       "data:  Suffolk\n",
       "W = 0.98933, p-value = 0.001201\n"
      ]
     },
     "metadata": {},
     "output_type": "display_data"
    },
    {
     "data": {
      "text/plain": [
       "\n",
       "\tShapiro-Wilk normality test\n",
       "\n",
       "data:  Essex\n",
       "W = 0.98198, p-value = 0.0008794\n"
      ]
     },
     "metadata": {},
     "output_type": "display_data"
    },
    {
     "data": {
      "text/plain": [
       "\n",
       "\tShapiro-Wilk normality test\n",
       "\n",
       "data:  Middlesex\n",
       "W = 0.98033, p-value = 0.2143\n"
      ]
     },
     "metadata": {},
     "output_type": "display_data"
    },
    {
     "data": {
      "text/plain": [
       "\n",
       "\tShapiro-Wilk normality test\n",
       "\n",
       "data:  Bristol\n",
       "W = 0.97782, p-value = 6.932e-06\n"
      ]
     },
     "metadata": {},
     "output_type": "display_data"
    },
    {
     "data": {
      "text/plain": [
       "\n",
       "\tShapiro-Wilk normality test\n",
       "\n",
       "data:  Plymouth\n",
       "W = 0.96961, p-value = 8.871e-06\n"
      ]
     },
     "metadata": {},
     "output_type": "display_data"
    },
    {
     "data": {
      "image/png": "[encoded data removed]",
      "text/plain": [
       "Plot with title \"House sale price distribution for Plymouth\""
      ]
     },
     "metadata": {},
     "output_type": "display_data"
    }
   ],
   "source": [
    "# Name (county):\n",
    "\n",
    "\n",
    "par(mfrow = c(2,3))\n",
    "\n",
    "b(Norfolk, 'Norfolk', y = 'Frequency', main = 'House sale price distribution for %s', graph = hist)\n",
    "b(Suffolk, 'Suffolk', y = 'Frequency', main = 'House sale price distribution for %s', graph = hist)\n",
    "b(Essex, 'Essex', y = 'Frequency', main = 'House sale price distribution for %s', graph = hist)\n",
    "b(Middlesex, 'Middlesex', y = 'Frequency', main = 'House sale price distribution for %s', graph = hist)\n",
    "b(Bristol, 'Bristol', y = 'Frequency', main = 'House sale price distribution for %s', graph = hist)\n",
    "b(Plymouth, 'Plymouth', y = 'Frequency', main = 'House sale price distribution for %s', graph = hist)\n",
    "\n",
    "par(mfrow = c(1,1))\n",
    "\n",
    "shapiro.test(Norfolk)\n",
    "shapiro.test(Suffolk)\n",
    "shapiro.test(Essex)\n",
    "shapiro.test(Middlesex)\n",
    "shapiro.test(Bristol)\n",
    "shapiro.test(Plymouth)"
   ]
  },
  {
   "cell_type": "code",
   "execution_count": 30,
   "metadata": {},
   "outputs": [
    {
     "data": {
      "text/plain": [
       "\n",
       "\tShapiro-Wilk normality test\n",
       "\n",
       "data:  year2017\n",
       "W = 0.92482, p-value = 7.731e-15\n"
      ]
     },
     "metadata": {},
     "output_type": "display_data"
    },
    {
     "data": {
      "text/plain": [
       "\n",
       "\tShapiro-Wilk normality test\n",
       "\n",
       "data:  year2018\n",
       "W = 0.94275, p-value < 2.2e-16\n"
      ]
     },
     "metadata": {},
     "output_type": "display_data"
    },
    {
     "data": {
      "text/plain": [
       "\n",
       "\tShapiro-Wilk normality test\n",
       "\n",
       "data:  year2019\n",
       "W = 0.94733, p-value < 2.2e-16\n"
      ]
     },
     "metadata": {},
     "output_type": "display_data"
    },
    {
     "data": {
      "text/plain": [
       "\n",
       "\tShapiro-Wilk normality test\n",
       "\n",
       "data:  year2020\n",
       "W = 0.94886, p-value = 6.575e-10\n"
      ]
     },
     "metadata": {},
     "output_type": "display_data"
    },
    {
     "data": {
      "image/png": "[encoded data removed]",
      "text/plain": [
       "Plot with title \"House sale price distribution for 2020\""
      ]
     },
     "metadata": {},
     "output_type": "display_data"
    }
   ],
   "source": [
    "# Year: \n",
    "\n",
    "par(mfrow = c(2,2))\n",
    "\n",
    "b(year2017, '2017', y = 'Frequency', main = 'House sale price distribution for %s', graph = hist)\n",
    "b(year2018, '2018', y = 'Frequency', main = 'House sale price distribution for %s', graph = hist)\n",
    "b(year2019, '2019', y = 'Frequency', main = 'House sale price distribution for %s', graph = hist)\n",
    "b(year2020, '2020', y = 'Frequency', main = 'House sale price distribution for %s', graph = hist)\n",
    "\n",
    "par(mfrow = c(1,1))\n",
    "\n",
    "\n",
    "shapiro.test(year2017)\n",
    "shapiro.test(year2018)\n",
    "shapiro.test(year2019)\n",
    "shapiro.test(year2020)"
   ]
  },
  {
   "cell_type": "code",
   "execution_count": 32,
   "metadata": {},
   "outputs": [
    {
     "name": "stderr",
     "output_type": "stream",
     "text": [
      "also installing the dependencies 'Rcpp', 'matrixStats', 'RcppArmadillo', 'zip', 'SparseM', 'MatrixModels', 'conquer', 'openxlsx', 'minqa', 'nloptr', 'statmod', 'RcppEigen', 'carData', 'abind', 'pbkrtest', 'quantreg', 'rio', 'lme4'\n",
      "\n"
     ]
    },
    {
     "name": "stdout",
     "output_type": "stream",
     "text": [
      "package 'Rcpp' successfully unpacked and MD5 sums checked\n"
     ]
    },
    {
     "name": "stderr",
     "output_type": "stream",
     "text": [
      "Warning message:\n",
      "\"cannot remove prior installation of package 'Rcpp'\"Warning message in file.copy(savedcopy, lib, recursive = TRUE):\n",
      "\"problem copying C:\\Users\\franc\\Anaconda3\\envs\\MSDataAnalytics\\Lib\\R\\library\\00LOCK\\Rcpp\\libs\\x64\\Rcpp.dll to C:\\Users\\franc\\Anaconda3\\envs\\MSDataAnalytics\\Lib\\R\\library\\Rcpp\\libs\\x64\\Rcpp.dll: Permission denied\"Warning message:\n",
      "\"restored 'Rcpp'\""
     ]
    },
    {
     "name": "stdout",
     "output_type": "stream",
     "text": [
      "package 'matrixStats' successfully unpacked and MD5 sums checked\n",
      "package 'RcppArmadillo' successfully unpacked and MD5 sums checked\n",
      "package 'zip' successfully unpacked and MD5 sums checked\n",
      "package 'SparseM' successfully unpacked and MD5 sums checked\n",
      "package 'MatrixModels' successfully unpacked and MD5 sums checked\n",
      "package 'conquer' successfully unpacked and MD5 sums checked\n",
      "package 'openxlsx' successfully unpacked and MD5 sums checked\n",
      "package 'minqa' successfully unpacked and MD5 sums checked\n",
      "package 'nloptr' successfully unpacked and MD5 sums checked\n",
      "package 'statmod' successfully unpacked and MD5 sums checked\n",
      "package 'RcppEigen' successfully unpacked and MD5 sums checked\n",
      "package 'carData' successfully unpacked and MD5 sums checked\n",
      "package 'abind' successfully unpacked and MD5 sums checked\n",
      "package 'pbkrtest' successfully unpacked and MD5 sums checked\n",
      "package 'quantreg' successfully unpacked and MD5 sums checked\n",
      "package 'rio' successfully unpacked and MD5 sums checked\n",
      "package 'lme4' successfully unpacked and MD5 sums checked\n",
      "package 'car' successfully unpacked and MD5 sums checked\n",
      "\n",
      "The downloaded binary packages are in\n",
      "\tC:\\Users\\franc\\AppData\\Local\\Temp\\Rtmp80FZ3h\\downloaded_packages\n"
     ]
    }
   ],
   "source": [
    "install.packages(\"car\")"
   ]
  },
  {
   "cell_type": "code",
   "execution_count": 33,
   "metadata": {},
   "outputs": [
    {
     "name": "stderr",
     "output_type": "stream",
     "text": [
      "Warning message:\n",
      "\"package 'car' was built under R version 3.6.3\"Loading required package: carData\n",
      "Warning message:\n",
      "\"package 'carData' was built under R version 3.6.3\"\n",
      "Attaching package: 'car'\n",
      "\n",
      "The following object is masked from 'package:dplyr':\n",
      "\n",
      "    recode\n",
      "\n",
      "The following object is masked from 'package:purrr':\n",
      "\n",
      "    some\n",
      "\n"
     ]
    },
    {
     "data": {
      "text/html": [
       "<table>\n",
       "<thead><tr><th></th><th scope=col>Df</th><th scope=col>F value</th><th scope=col>Pr(&gt;F)</th></tr></thead>\n",
       "<tbody>\n",
       "\t<tr><th scope=row>group</th><td>   5        </td><td>12.96683    </td><td>2.019608e-12</td></tr>\n",
       "\t<tr><th scope=row> </th><td>1834        </td><td>      NA    </td><td>          NA</td></tr>\n",
       "</tbody>\n",
       "</table>\n"
      ],
      "text/latex": [
       "\\begin{tabular}{r|lll}\n",
       "  & Df & F value & Pr(>F)\\\\\n",
       "\\hline\n",
       "\tgroup &    5         & 12.96683     & 2.019608e-12\\\\\n",
       "\t  & 1834         &       NA     &           NA\\\\\n",
       "\\end{tabular}\n"
      ],
      "text/markdown": [
       "\n",
       "| <!--/--> | Df | F value | Pr(>F) |\n",
       "|---|---|---|---|\n",
       "| group |    5         | 12.96683     | 2.019608e-12 |\n",
       "|   | 1834         |       NA     |           NA |\n",
       "\n"
      ],
      "text/plain": [
       "      Df   F value  Pr(>F)      \n",
       "group    5 12.96683 2.019608e-12\n",
       "      1834       NA           NA"
      ]
     },
     "metadata": {},
     "output_type": "display_data"
    },
    {
     "data": {
      "text/html": [
       "<table>\n",
       "<thead><tr><th></th><th scope=col>Df</th><th scope=col>F value</th><th scope=col>Pr(&gt;F)</th></tr></thead>\n",
       "<tbody>\n",
       "\t<tr><th scope=row>group</th><td>   3     </td><td>0.9713918</td><td>0.4052886</td></tr>\n",
       "\t<tr><th scope=row> </th><td>1836     </td><td>       NA</td><td>       NA</td></tr>\n",
       "</tbody>\n",
       "</table>\n"
      ],
      "text/latex": [
       "\\begin{tabular}{r|lll}\n",
       "  & Df & F value & Pr(>F)\\\\\n",
       "\\hline\n",
       "\tgroup &    3      & 0.9713918 & 0.4052886\\\\\n",
       "\t  & 1836      &        NA &        NA\\\\\n",
       "\\end{tabular}\n"
      ],
      "text/markdown": [
       "\n",
       "| <!--/--> | Df | F value | Pr(>F) |\n",
       "|---|---|---|---|\n",
       "| group |    3      | 0.9713918 | 0.4052886 |\n",
       "|   | 1836      |        NA |        NA |\n",
       "\n"
      ],
      "text/plain": [
       "      Df   F value   Pr(>F)   \n",
       "group    3 0.9713918 0.4052886\n",
       "      1836        NA        NA"
      ]
     },
     "metadata": {},
     "output_type": "display_data"
    }
   ],
   "source": [
    "library(car)\n",
    "\n",
    "# County:\n",
    "\n",
    "leveneTest(df$median_sale_price, Name)\n",
    "leveneTest(df$median_sale_price, Year)"
   ]
  },
  {
   "cell_type": "code",
   "execution_count": 35,
   "metadata": {},
   "outputs": [
    {
     "data": {
      "image/png": "[encoded data removed]",
      "text/plain": [
       "plot without title"
      ]
     },
     "metadata": {},
     "output_type": "display_data"
    }
   ],
   "source": [
    "##### Graphical comparisons# of name and year #####:\n",
    "\n",
    "boxplot(df$median_sale_price ~ df$Name, col = 'wheat3',\n",
    "        ylab = 'Median Sale Price', xlab = 'County')\n",
    "\n",
    "\n"
   ]
  },
  {
   "cell_type": "code",
   "execution_count": 36,
   "metadata": {},
   "outputs": [
    {
     "data": {
      "image/png": "[encoded data removed]",
      "text/plain": [
       "plot without title"
      ]
     },
     "metadata": {},
     "output_type": "display_data"
    }
   ],
   "source": [
    "boxplot(df$median_sale_price ~ df$Year, col = 'wheat3',\n",
    "        ylab = 'Median Sale Price', xlab = 'County')"
   ]
  },
  {
   "cell_type": "code",
   "execution_count": null,
   "metadata": {},
   "outputs": [],
   "source": [
    "\n",
    "df2017 <- subset(df, Year == '2017')\n",
    "df2018  <- subset(df, Year == '2018')\n",
    "df2019 <- subset(df, Year == '2019')\n",
    "df2020  <- subset(df, Year == '2020')"
   ]
  }
 ],
 "metadata": {
  "kernelspec": {
   "display_name": "R",
   "language": "R",
   "name": "ir"
  },
  "language_info": {
   "codemirror_mode": "r",
   "file_extension": ".r",
   "mimetype": "text/x-r-source",
   "name": "R",
   "pygments_lexer": "r",
   "version": "3.6.1"
  }
 },
 "nbformat": 4,
 "nbformat_minor": 4
}
